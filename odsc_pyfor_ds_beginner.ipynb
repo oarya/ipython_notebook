{
 "cells": [
  {
   "cell_type": "markdown",
   "metadata": {},
   "source": [
    "# Rules for writing code \n",
    "\n",
    "Primer of python : https://docs.python.org/3/tutorial/\n",
    "\n",
    "\n",
    "4 spaces for indentation\n",
    "spaces over tabs\n",
    "limit lines to 79 chars\n",
    "be specific when importing usee full - use from time import time\n",
    "non public names should start with _\n",
    "Use capwords for classes\n",
    "use all lowercase names for functions\n",
    "\n",
    "\n"
   ]
  },
  {
   "cell_type": "code",
   "execution_count": null,
   "metadata": {},
   "outputs": [],
   "source": [
    "# Data wrangling \n",
    "\n",
    "csv_file = open(\"/test_file.csv\") # open creates a file object more like a lazy iterator\n",
    "for f in csv_file\n",
    "    pass\n",
    "#need to explicitly close the file so its better to with statement also called context manager    \n",
    "csv_file.close()    \n",
    "\n",
    "with open(\"./test_file.csv\") as csv_file\n",
    "for f in csv_file\n",
    "   pass\n",
    "\n",
    "#testing git\n",
    "    \n",
    "    \n"
   ]
  }
 ],
 "metadata": {
  "kernelspec": {
   "display_name": "Python 2",
   "language": "python",
   "name": "python2"
  },
  "language_info": {
   "codemirror_mode": {
    "name": "ipython",
    "version": 2
   },
   "file_extension": ".py",
   "mimetype": "text/x-python",
   "name": "python",
   "nbconvert_exporter": "python",
   "pygments_lexer": "ipython2",
   "version": "2.7.12"
  }
 },
 "nbformat": 4,
 "nbformat_minor": 2
}
